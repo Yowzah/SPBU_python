{
 "cells": [
  {
   "cell_type": "code",
   "execution_count": 1,
   "metadata": {},
   "outputs": [],
   "source": [
    "from docx import Document\n",
    "from docx.shared import Inches"
   ]
  },
  {
   "cell_type": "code",
   "execution_count": 2,
   "metadata": {},
   "outputs": [],
   "source": [
    "def read(path):\n",
    "    texdoc = []\n",
    "    with open(path) as fin:\n",
    "        for line in fin:\n",
    "            texdoc.append(line.replace('width=.5\\\\textwidth', 'width=.9\\\\textwidth'))\n",
    "    return texdoc"
   ]
  },
  {
   "cell_type": "code",
   "execution_count": 3,
   "metadata": {},
   "outputs": [],
   "source": [
    "def write(texdoc, path):\n",
    "    with open(path, 'w') as fout:\n",
    "        for i in range(len(texdoc)):\n",
    "            fout.write(texdoc[i])"
   ]
  },
  {
   "cell_type": "code",
   "execution_count": 4,
   "metadata": {},
   "outputs": [],
   "source": [
    "def firstTask(strList):\n",
    "    return list(map(lambda s: s.replace(\"hypothesis\", \"conjecture\").replace(\"hypotheses\", \"conjectures\"), strList))"
   ]
  },
  {
   "cell_type": "code",
   "execution_count": 5,
   "metadata": {},
   "outputs": [],
   "source": [
    "def secondTask(docClassPath, newDocClassPath):\n",
    "    strList = readTexFile(docClassPath)\n",
    "    c = list(map(lambda s: s.replace(\"\", \"\") if s.count(\"\\\\fontsize\") != 0 else s, strList))\n",
    "    writeTexFile(c, newDocClassPath)"
   ]
  },
  {
   "cell_type": "code",
   "execution_count": 6,
   "metadata": {},
   "outputs": [],
   "source": [
    "def notCommentedSection(line):\n",
    "    if(line.count(\"subsection\") != 0 or line.count(\"\\\\section\") != 0):\n",
    "        for c in (0, line.index(\"section\")):\n",
    "            if c == \"%\":\n",
    "                return False\n",
    "            else:\n",
    "                return True\n",
    "    else:\n",
    "        return False"
   ]
  },
  {
   "cell_type": "code",
   "execution_count": 7,
   "metadata": {},
   "outputs": [],
   "source": [
    "def getStructure(strList):\n",
    "    structured = []\n",
    "    tostruc = list(filter(lambda s: notCommentedSection(s), strList))\n",
    "    for line in tostruc:\n",
    "        k = line.count(\"sub\")\n",
    "        structured.append((\"\\t\" * k) + line[line.index('{')+1:line.index('}')])\n",
    "    return structured"
   ]
  },
  {
   "cell_type": "code",
   "execution_count": 8,
   "metadata": {},
   "outputs": [],
   "source": [
    "def texStructure(strList):\n",
    "    structured = []\n",
    "    tostruc = list(filter(lambda s: notCommentedSection(s), strList))\n",
    "    for line in tostruc:\n",
    "        structured.append(line[line.index('\\\\'):line.index('}') + 1] + \"\\n\")\n",
    "    return structured"
   ]
  },
  {
   "cell_type": "code",
   "execution_count": 9,
   "metadata": {},
   "outputs": [],
   "source": [
    "def writeDocx(path, list):\n",
    "    document = Document()\n",
    "    document.add_heading('Structure', 0)\n",
    "    for line in list:\n",
    "        document.add_paragraph(line)\n",
    "    document.save(path + 'HW4.docx')"
   ]
  },
  {
   "cell_type": "code",
   "execution_count": 10,
   "metadata": {},
   "outputs": [],
   "source": [
    "def getStyle(doc):\n",
    "    return doc[0 : doc.index(\"\\\\begin{document}\\n\") + 1]"
   ]
  },
  {
   "cell_type": "code",
   "execution_count": 12,
   "metadata": {},
   "outputs": [],
   "source": [
    "#print(\"Please input path to the repository\")\n",
    "#path_repo = str(input())\n",
    "\n",
    "path_repo = '/Users/semaputnikov/Documents/Python/SPBU_python'\n",
    "\n",
    "resources = path_repo + '/resources/'\n",
    "output_path = path_repo + '/HW-04_output/'\n",
    "\n",
    "filename = 'multistability.tex'\n",
    "\n",
    "doc = read(resources + filename)\n",
    "\n",
    "a = firstTask(doc)\n",
    "write(a, output_path + 'conjectured.tex')\n",
    "writeDocx(output_path, getStructure(doc))\n",
    "\n",
    "structure = getStyle(doc)\n",
    "structure.extend(texStructure(doc))\n",
    "structure.append(\"\\\\end{document}\")\n",
    "\n",
    "write(structure, output_path + 'structure.tex')"
   ]
  }
 ],
 "metadata": {
  "kernelspec": {
   "display_name": "Python 3",
   "language": "python",
   "name": "python3"
  },
  "language_info": {
   "codemirror_mode": {
    "name": "ipython",
    "version": 3
   },
   "file_extension": ".py",
   "mimetype": "text/x-python",
   "name": "python",
   "nbconvert_exporter": "python",
   "pygments_lexer": "ipython3",
   "version": "3.7.4"
  }
 },
 "nbformat": 4,
 "nbformat_minor": 2
}
