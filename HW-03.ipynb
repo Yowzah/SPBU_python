{
 "cells": [
  {
   "cell_type": "markdown",
   "metadata": {},
   "source": [
    "# Задача № 1\n",
    "\n",
    "Дан массив чисел, содержащий значение температуры за последний 10 дней (сгенерируйте массив чисел с плавающей точкой от 10 до 25).\n",
    "\n",
    "- Рассчитайте массив чисел, который содежит соответствующие значения в [Фаренгейтах](https://ru.wikipedia.org/wiki/%D0%93%D1%80%D0%B0%D0%B4%D1%83%D1%81_%D0%A4%D0%B0%D1%80%D0%B5%D0%BD%D0%B3%D0%B5%D0%B9%D1%82%D0%B0).\n",
    "\n",
    "- Рассчитайте массив чисел, который преобразует значения в Фаренгейтах в значения по [Кельвину](https://ru.wikipedia.org/wiki/%D0%9A%D0%B5%D0%BB%D1%8C%D0%B2%D0%B8%D0%BD)\n",
    "\n",
    "- Значения по Кельвину преобразуйте в градусы Цельсия и сравните полученный результат с исходным массивом (выведите разность)."
   ]
  },
  {
   "cell_type": "code",
   "execution_count": 1,
   "metadata": {},
   "outputs": [
    {
     "name": "stdout",
     "output_type": "stream",
     "text": [
      "[23.38904561 11.93626138 11.96970136 20.0524981  20.8484541  18.22821575\n",
      " 19.86287535 17.25963282 17.09439185 18.45760896]\n",
      "[74.10028209 53.48527049 53.54546245 68.09449658 69.52721739 64.81078835\n",
      " 67.75317564 63.06733907 62.76990532 65.22369613]\n",
      "[296.53904561 285.08626138 285.11970136 293.2024981  293.9984541\n",
      " 291.37821575 293.01287535 290.40963282 290.24439185 291.60760896]\n",
      "[ 1.06581410e-14  8.88178420e-15 -3.55271368e-15 -1.06581410e-14\n",
      "  2.84217094e-14 -2.48689958e-14 -1.77635684e-14 -1.06581410e-14\n",
      " -3.55271368e-15 -7.10542736e-15]\n"
     ]
    }
   ],
   "source": [
    "import numpy as np\n",
    "import random\n",
    "\n",
    "celsius = 15 * np.random.random_sample((10,)) + 10\n",
    "print(celsius)\n",
    "\n",
    "fahrenheit = 9/5 * celsius + 32\n",
    "print(fahrenheit)\n",
    "\n",
    "kelvin = (fahrenheit - 32) * 5/9 + 273.15\n",
    "print(kelvin)\n",
    "\n",
    "celsius_2 = kelvin - 273.15\n",
    "print(celsius_2 - celsius)"
   ]
  },
  {
   "cell_type": "markdown",
   "metadata": {},
   "source": [
    "# Задача № 2\n",
    "\n",
    "Дан словарь.\n",
    "Напишите функцию, которая возвращает словарь, состоящий из элементов исходного с ключами типа String.\n",
    "\n",
    "Например:  \n",
    "\n",
    "`Вход`: \n",
    "```python\n",
    "{'x':2, 4:'y', 4.0:'12', '3':'fdfs', 'a':9., b'pp':52}\n",
    "```\n",
    "\n",
    "`Выход`:\n",
    "```python\n",
    "{'x': 2, '3': 'fdfs', 'a': 9.0}\n",
    "```"
   ]
  },
  {
   "cell_type": "code",
   "execution_count": 14,
   "metadata": {},
   "outputs": [
    {
     "name": "stdout",
     "output_type": "stream",
     "text": [
      "{'x': 2, '3': 'fdfs', 'a': 9.0}\n"
     ]
    }
   ],
   "source": [
    "initial = {'x':2, 4:'y', 4.0:'12', '3':'fdfs', 'a':9., b'pp':52}\n",
    "result = {}\n",
    "\n",
    "for key in initial:\n",
    "    if type(key) is str:\n",
    "        result[key] = initial[key]\n",
    "\n",
    "print(result)"
   ]
  },
  {
   "cell_type": "markdown",
   "metadata": {},
   "source": [
    "# Задача № 3\n",
    "\n",
    "- Сгенерируйте два массива $a$ и $b$ одинаковой случайной длины $n$ (от 4 до 8 чисел) случайных чисел от 1 до 10\n",
    "- Посчитайте $\\prod\\limits_{i = 0}^{n-1} (a[i] + b[n-1-i])$, используя только функции __map, zip, filter, reduce__"
   ]
  },
  {
   "cell_type": "code",
   "execution_count": 3,
   "metadata": {},
   "outputs": [
    {
     "name": "stdout",
     "output_type": "stream",
     "text": [
      "113400000\n"
     ]
    }
   ],
   "source": [
    "from functools import reduce\n",
    "\n",
    "length = random.randint(4, 8)\n",
    "a = np.random.randint(1, 10, length)\n",
    "b = np.random.randint(1, 10, length)\n",
    "\n",
    "result = reduce(lambda x, y: x * y, map(lambda x, y: x + y, a, b[::-1]))\n",
    "print(result)"
   ]
  },
  {
   "cell_type": "markdown",
   "metadata": {},
   "source": [
    "# Задача № 4\n",
    "\n",
    "Напишите функцию, принимающую произвольное число произвольных аргументов и возвращающая словарь с парами \n",
    "```\n",
    "<название_типа данных>: <количество элементов этого типа данных среди переданных аргументов> \n",
    "```"
   ]
  },
  {
   "cell_type": "code",
   "execution_count": 12,
   "metadata": {},
   "outputs": [
    {
     "name": "stdout",
     "output_type": "stream",
     "text": [
      "{'str': 2, 'int': 3, 'float': 1}\n"
     ]
    }
   ],
   "source": [
    "def f(*args):\n",
    "    result = {}\n",
    "    for k in args:\n",
    "        result[type(k).__name__] = result.get(type(k).__name__, 0) + 1\n",
    "    return result\n",
    "\n",
    "print(f('a','b', 1, 2, 3, 4.0))"
   ]
  },
  {
   "cell_type": "markdown",
   "metadata": {},
   "source": [
    "# Задача № 5\n",
    "\n",
    "Реализовать функцию __zip()__ через функцию __map()__"
   ]
  },
  {
   "cell_type": "code",
   "execution_count": 5,
   "metadata": {},
   "outputs": [
    {
     "name": "stdout",
     "output_type": "stream",
     "text": [
      "[(1, 4), (2, 5), (3, 6)]\n"
     ]
    }
   ],
   "source": [
    "a = [1, 2, 3]\n",
    "b = (4, 5, 6)\n",
    "\n",
    "print(list(map(lambda *args: args, a, b)))"
   ]
  }
 ],
 "metadata": {
  "kernelspec": {
   "display_name": "Python 3",
   "language": "python",
   "name": "python3"
  },
  "language_info": {
   "codemirror_mode": {
    "name": "ipython",
    "version": 3
   },
   "file_extension": ".py",
   "mimetype": "text/x-python",
   "name": "python",
   "nbconvert_exporter": "python",
   "pygments_lexer": "ipython3",
   "version": "3.7.4"
  }
 },
 "nbformat": 4,
 "nbformat_minor": 2
}
